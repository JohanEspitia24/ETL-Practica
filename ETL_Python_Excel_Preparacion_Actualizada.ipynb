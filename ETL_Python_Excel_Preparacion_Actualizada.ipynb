{
 "cells": [
  {
   "cell_type": "markdown",
   "id": "e1061a5b",
   "metadata": {},
   "source": [
    "# Preparación para Pruebas Técnicas - ETL con Python y Excel"
   ]
  },
  {
   "cell_type": "markdown",
   "id": "9006a659",
   "metadata": {},
   "source": [
    "\n",
    "    Esta notebook incluye todos los conceptos, códigos y ejemplos relacionados con ETL en Python \n",
    "    utilizando Excel, organizados para facilitar el estudio y la práctica.\n",
    "    "
   ]
  },
  {
   "cell_type": "markdown",
   "id": "a83a72bd",
   "metadata": {},
   "source": [
    "## Herramientas principales para ETL con Excel"
   ]
  },
  {
   "cell_type": "markdown",
   "id": "09f1a86a",
   "metadata": {},
   "source": [
    "\n",
    "    - **pandas**: Manipulación de datos tabulares.\n",
    "    - **openpyxl**: Manipulación directa de archivos Excel (celdas, hojas, estilos).\n",
    "    - **xlrd/xlsxwriter**: Complementos para trabajar con diferentes formatos.\n",
    "    "
   ]
  },
  {
   "cell_type": "markdown",
   "id": "835b7b4b",
   "metadata": {},
   "source": [
    "## Extracción de Datos desde Excel"
   ]
  },
  {
   "cell_type": "code",
   "execution_count": 7,
   "id": "89e641ca",
   "metadata": {},
   "outputs": [
    {
     "name": "stdout",
     "output_type": "stream",
     "text": [
      "     Producto  Cantidad  Precio Unitario Fecha de Venta Región\n",
      "0  Producto A       120             10.5     2023-01-15  Norte\n",
      "1  Producto B        85              8.0     2023-01-16    Sur\n",
      "2  Producto C       150             12.0     2023-01-17  Norte\n",
      "3  Producto D        90             15.0     2023-01-18   Este\n",
      "4  Producto E       200              9.5     2023-01-19  Oeste\n"
     ]
    },
    {
     "name": "stderr",
     "output_type": "stream",
     "text": [
      "C:\\Users\\johan\\AppData\\Local\\Temp\\ipykernel_14460\\3205495355.py:5: DeprecationWarning: 'chunk' is deprecated and slated for removal in Python 3.13\n",
      "  import chunk\n"
     ]
    }
   ],
   "source": [
    "# Modificaciones añadidas para mayor claridad\n",
    "# Descripción de lo que hace cada línea del código:\n",
    "\n",
    "import pandas as pd\n",
    "import chunk\n",
    "\n",
    "# Leer todas las hojas de un archivo Excel\n",
    "file = 'ventas.xlsx'\n",
    "hojas = pd.read_excel(file, sheet_name=None)  # Cargar todas las hojas como diccionario\n",
    "\n",
    "# Acceso a una hoja específica\n",
    "df_hoja1 = hojas['Ventas']\n",
    "\n",
    "# Combinar todas las hojas en un solo DataFrame\n",
    "df_combined = pd.concat(hojas.values(), ignore_index=True)\n",
    "print(df_combined.head())\n",
    "    "
   ]
  },
  {
   "cell_type": "code",
   "execution_count": 8,
   "id": "e5f8016f",
   "metadata": {},
   "outputs": [
    {
     "ename": "TypeError",
     "evalue": "read_excel() got an unexpected keyword argument 'chunksize'",
     "output_type": "error",
     "traceback": [
      "\u001b[1;31m---------------------------------------------------------------------------\u001b[0m",
      "\u001b[1;31mTypeError\u001b[0m                                 Traceback (most recent call last)",
      "Cell \u001b[1;32mIn[8], line 5\u001b[0m\n\u001b[0;32m      1\u001b[0m \u001b[38;5;66;03m# Modificaciones añadidas para mayor claridad\u001b[39;00m\n\u001b[0;32m      2\u001b[0m \u001b[38;5;66;03m# Descripción de lo que hace cada línea del código:\u001b[39;00m\n\u001b[0;32m      3\u001b[0m \n\u001b[0;32m      4\u001b[0m \u001b[38;5;66;03m# Leer un archivo Excel en fragmentos de 1000 filas (chunking)\u001b[39;00m\n\u001b[1;32m----> 5\u001b[0m chunks \u001b[38;5;241m=\u001b[39m \u001b[43mpd\u001b[49m\u001b[38;5;241;43m.\u001b[39;49m\u001b[43mread_excel\u001b[49m\u001b[43m(\u001b[49m\u001b[38;5;124;43m'\u001b[39;49m\u001b[38;5;124;43mventas.xlsx\u001b[39;49m\u001b[38;5;124;43m'\u001b[39;49m\u001b[43m,\u001b[49m\u001b[43m \u001b[49m\u001b[43mchunksize\u001b[49m\u001b[38;5;241;43m=\u001b[39;49m\u001b[38;5;241;43m10\u001b[39;49m\u001b[43m)\u001b[49m\n\u001b[0;32m      6\u001b[0m \u001b[38;5;28;01mfor\u001b[39;00m chunk \u001b[38;5;129;01min\u001b[39;00m chunks:\n\u001b[0;32m      7\u001b[0m     \u001b[38;5;28mprint\u001b[39m(chunk\u001b[38;5;241m.\u001b[39mhead())\n",
      "\u001b[1;31mTypeError\u001b[0m: read_excel() got an unexpected keyword argument 'chunksize'"
     ]
    }
   ],
   "source": [
    "# Modificaciones añadidas para mayor claridad\n",
    "# Descripción de lo que hace cada línea del código:\n",
    "\n",
    "# Leer un archivo Excel en fragmentos de 1000 filas (chunking)\n",
    "chunks = pd.read_excel('ventas.xlsx', chunksize=10)\n",
    "for chunk in chunks:\n",
    "    print(chunk.head())\n",
    "    "
   ]
  },
  {
   "cell_type": "markdown",
   "id": "37fdec26",
   "metadata": {},
   "source": [
    "## Transformación de Datos"
   ]
  },
  {
   "cell_type": "code",
   "execution_count": null,
   "id": "ccd6d0d8",
   "metadata": {},
   "outputs": [
    {
     "ename": "NameError",
     "evalue": "name 'df' is not defined",
     "output_type": "error",
     "traceback": [
      "\u001b[1;31m---------------------------------------------------------------------------\u001b[0m",
      "\u001b[1;31mNameError\u001b[0m                                 Traceback (most recent call last)",
      "Cell \u001b[1;32mIn[10], line 5\u001b[0m\n\u001b[0;32m      1\u001b[0m \u001b[38;5;66;03m# Modificaciones añadidas para mayor claridad\u001b[39;00m\n\u001b[0;32m      2\u001b[0m \u001b[38;5;66;03m# Descripción de lo que hace cada línea del código:\u001b[39;00m\n\u001b[0;32m      3\u001b[0m \n\u001b[0;32m      4\u001b[0m \u001b[38;5;66;03m# Rellenar valores faltantes\u001b[39;00m\n\u001b[1;32m----> 5\u001b[0m df[\u001b[38;5;124m'\u001b[39m\u001b[38;5;124mColumna\u001b[39m\u001b[38;5;124m'\u001b[39m] \u001b[38;5;241m=\u001b[39m \u001b[43mdf\u001b[49m[\u001b[38;5;124m'\u001b[39m\u001b[38;5;124mColumna\u001b[39m\u001b[38;5;124m'\u001b[39m]\u001b[38;5;241m.\u001b[39mfillna(\u001b[38;5;124m'\u001b[39m\u001b[38;5;124mValor por defecto\u001b[39m\u001b[38;5;124m'\u001b[39m)\n\u001b[0;32m      7\u001b[0m \u001b[38;5;66;03m# Crear una columna basada en cálculos\u001b[39;00m\n\u001b[0;32m      8\u001b[0m df[\u001b[38;5;124m'\u001b[39m\u001b[38;5;124mCosto_Total\u001b[39m\u001b[38;5;124m'\u001b[39m] \u001b[38;5;241m=\u001b[39m df[\u001b[38;5;124m'\u001b[39m\u001b[38;5;124mCantidad\u001b[39m\u001b[38;5;124m'\u001b[39m] \u001b[38;5;241m*\u001b[39m df[\u001b[38;5;124m'\u001b[39m\u001b[38;5;124mPrecio_Unitario\u001b[39m\u001b[38;5;124m'\u001b[39m]\n",
      "\u001b[1;31mNameError\u001b[0m: name 'df' is not defined"
     ]
    }
   ],
   "source": [
    "# Modificaciones añadidas para mayor claridad\n",
    "# Descripción de lo que hace cada línea del código:\n",
    "\n",
    "# Rellenar valores faltantes\n",
    "df = pd.read_excel('ventas.xlsx')\n",
    "df['Columna'] = df['Columna'].fillna('Valor por defecto')\n",
    "\n",
    "# Crear una columna basada en cálculos\n",
    "df['Costo_Total'] = df['Cantidad'] * df['Precio_Unitario']\n",
    "\n",
    "# Agrupar datos y calcular métricas\n",
    "reporte = df.groupby('Categoría').agg({\n",
    "    'Cantidad': 'sum',\n",
    "    'Precio_Unitario': 'mean'\n",
    "}).reset_index()\n",
    "print(reporte)\n",
    "    "
   ]
  },
  {
   "cell_type": "markdown",
   "id": "968014f9",
   "metadata": {},
   "source": [
    "## Carga de Datos Procesados"
   ]
  },
  {
   "cell_type": "code",
   "execution_count": 11,
   "id": "ef4cffc7",
   "metadata": {},
   "outputs": [
    {
     "ename": "NameError",
     "evalue": "name 'df' is not defined",
     "output_type": "error",
     "traceback": [
      "\u001b[1;31m---------------------------------------------------------------------------\u001b[0m",
      "\u001b[1;31mNameError\u001b[0m                                 Traceback (most recent call last)",
      "Cell \u001b[1;32mIn[11], line 5\u001b[0m\n\u001b[0;32m      1\u001b[0m \u001b[38;5;66;03m# Modificaciones añadidas para mayor claridad\u001b[39;00m\n\u001b[0;32m      2\u001b[0m \u001b[38;5;66;03m# Descripción de lo que hace cada línea del código:\u001b[39;00m\n\u001b[0;32m      3\u001b[0m \n\u001b[0;32m      4\u001b[0m \u001b[38;5;66;03m# Guardar en un nuevo archivo Excel\u001b[39;00m\n\u001b[1;32m----> 5\u001b[0m \u001b[43mdf\u001b[49m\u001b[38;5;241m.\u001b[39mto_excel(\u001b[38;5;124m'\u001b[39m\u001b[38;5;124mresultado.xlsx\u001b[39m\u001b[38;5;124m'\u001b[39m, index\u001b[38;5;241m=\u001b[39m\u001b[38;5;28;01mFalse\u001b[39;00m)\n\u001b[0;32m      7\u001b[0m \u001b[38;5;66;03m# Crear múltiples hojas en un archivo Excel\u001b[39;00m\n\u001b[0;32m      8\u001b[0m \u001b[38;5;28;01mwith\u001b[39;00m pd\u001b[38;5;241m.\u001b[39mExcelWriter(\u001b[38;5;124m'\u001b[39m\u001b[38;5;124marchivo_con_hojas.xlsx\u001b[39m\u001b[38;5;124m'\u001b[39m, engine\u001b[38;5;241m=\u001b[39m\u001b[38;5;124m'\u001b[39m\u001b[38;5;124mopenpyxl\u001b[39m\u001b[38;5;124m'\u001b[39m) \u001b[38;5;28;01mas\u001b[39;00m writer:\n",
      "\u001b[1;31mNameError\u001b[0m: name 'df' is not defined"
     ]
    }
   ],
   "source": [
    "# Modificaciones añadidas para mayor claridad\n",
    "# Descripción de lo que hace cada línea del código:\n",
    "\n",
    "# Guardar en un nuevo archivo Excel\n",
    "df.to_excel('resultado.xlsx', index=False)\n",
    "\n",
    "# Crear múltiples hojas en un archivo Excel\n",
    "with pd.ExcelWriter('archivo_con_hojas.xlsx', engine='openpyxl') as writer:\n",
    "    df1.to_excel(writer, sheet_name='Hoja1', index=False)\n",
    "    df2.to_excel(writer, sheet_name='Hoja2', index=False)\n",
    "    "
   ]
  },
  {
   "cell_type": "markdown",
   "id": "c1e54613",
   "metadata": {},
   "source": [
    "## Automatización y Pipelines"
   ]
  },
  {
   "cell_type": "code",
   "execution_count": null,
   "id": "dd3e234c",
   "metadata": {},
   "outputs": [],
   "source": [
    "# Modificaciones añadidas para mayor claridad\n",
    "# Descripción de lo que hace cada línea del código:\n",
    "\n",
    "# Pipeline ETL: Lectura, transformación y exportación\n",
    "df = pd.read_excel('productos.xlsx')\n",
    "df_filtrado = df[df['Cantidad'] > 100]\n",
    "df_filtrado['Costo_Total'] = df_filtrado['Cantidad'] * df_filtrado['Precio']\n",
    "df_filtrado.to_excel('productos_filtrados.xlsx', index=False)\n",
    "print(\"Pipeline ETL completado.\")\n",
    "    "
   ]
  },
  {
   "cell_type": "markdown",
   "id": "e9df7831",
   "metadata": {},
   "source": [
    "## Validación y Manejo de Errores"
   ]
  },
  {
   "cell_type": "code",
   "execution_count": null,
   "id": "fc0db683",
   "metadata": {},
   "outputs": [],
   "source": [
    "# Modificaciones añadidas para mayor claridad\n",
    "# Descripción de lo que hace cada línea del código:\n",
    "\n",
    "# Verificar valores faltantes\n",
    "print(df.isnull().sum())\n",
    "\n",
    "# Manejar errores durante el ETL\n",
    "try:\n",
    "    df = pd.read_excel('archivo.xlsx')\n",
    "    df['Costo_Total'] = df['Cantidad'] * df['Precio']\n",
    "    df.to_excel('resultado.xlsx', index=False)\n",
    "    print(\"Proceso completado exitosamente.\")\n",
    "except FileNotFoundError:\n",
    "    print(\"Error: El archivo no fue encontrado.\")\n",
    "except Exception as e:\n",
    "    print(f\"Error inesperado: {e}\")\n",
    "    "
   ]
  },
  {
   "cell_type": "markdown",
   "id": "600bba60",
   "metadata": {},
   "source": [
    "## Consultas avanzadas en Excel"
   ]
  },
  {
   "cell_type": "code",
   "execution_count": null,
   "id": "b1615da0",
   "metadata": {},
   "outputs": [],
   "source": [
    "\n",
    "import pandas as pd\n",
    "\n",
    "# Leer un archivo Excel\n",
    "df = pd.read_excel('ventas.xlsx')\n",
    "\n",
    "# Consulta 1: Ventas totales por producto\n",
    "ventas_totales = df.groupby('Producto')['Cantidad'].sum().reset_index()\n",
    "print(\"Ventas totales por producto:\")\n",
    "print(ventas_totales)\n",
    "\n",
    "# Consulta 2: Productos con ventas mayores a un umbral\n",
    "umbral = 100\n",
    "productos_destacados = df[df['Cantidad'] > umbral]\n",
    "print(f\"Productos con ventas mayores a {umbral}:\")\n",
    "print(productos_destacados)\n",
    "    "
   ]
  },
  {
   "cell_type": "markdown",
   "id": "7d938396",
   "metadata": {},
   "source": [
    "## Generación de gráficos para informes"
   ]
  },
  {
   "cell_type": "code",
   "execution_count": null,
   "id": "20354773",
   "metadata": {},
   "outputs": [],
   "source": [
    "\n",
    "import matplotlib.pyplot as plt\n",
    "\n",
    "# Gráfica de barras: Ventas totales por producto\n",
    "plt.figure(figsize=(10, 6))\n",
    "plt.bar(ventas_totales['Producto'], ventas_totales['Cantidad'], color='skyblue')\n",
    "plt.xlabel('Producto')\n",
    "plt.ylabel('Cantidad vendida')\n",
    "plt.title('Ventas Totales por Producto')\n",
    "plt.xticks(rotation=45)\n",
    "plt.tight_layout()\n",
    "plt.savefig('ventas_totales_por_producto.png')  # Guardar gráfico como imagen\n",
    "plt.show()\n",
    "\n",
    "# Gráfica de pastel: Proporción de ventas por producto\n",
    "plt.figure(figsize=(8, 8))\n",
    "plt.pie(ventas_totales['Cantidad'], labels=ventas_totales['Producto'], autopct='%1.1f%%', startangle=140)\n",
    "plt.title('Proporción de Ventas por Producto')\n",
    "plt.tight_layout()\n",
    "plt.savefig('proporcion_ventas_por_producto.png')  # Guardar gráfico como imagen\n",
    "plt.show()\n",
    "    "
   ]
  }
 ],
 "metadata": {
  "kernelspec": {
   "display_name": "Python 3",
   "language": "python",
   "name": "python3"
  },
  "language_info": {
   "codemirror_mode": {
    "name": "ipython",
    "version": 3
   },
   "file_extension": ".py",
   "mimetype": "text/x-python",
   "name": "python",
   "nbconvert_exporter": "python",
   "pygments_lexer": "ipython3",
   "version": "3.12.6"
  }
 },
 "nbformat": 4,
 "nbformat_minor": 5
}
