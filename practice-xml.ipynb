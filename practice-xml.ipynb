{
 "cells": [
  {
   "cell_type": "code",
   "execution_count": 3,
   "metadata": {},
   "outputs": [],
   "source": [
    "import os\n",
    "import shutil\n"
   ]
  },
  {
   "cell_type": "code",
   "execution_count": 5,
   "metadata": {},
   "outputs": [
    {
     "name": "stdout",
     "output_type": "stream",
     "text": [
      "C:/Users/johan/Documents/new_folder\\HR_Employee_Data.xlsx\n"
     ]
    }
   ],
   "source": [
    "shutil.move('C:/Users/johan/Documents/Excel/Untitled-1.xml','C:/Users/johan/Documents/new_folder')\n",
    "\n",
    "df= [os.path.join('C:/Users/johan/Documents/new_folder', f) for f in os.listdir('C:/Users/johan/Documents/new_folder') if f.endswith('.xlsx')]\n",
    "for f in df:\n",
    "    print(f)"
   ]
  },
  {
   "cell_type": "code",
   "execution_count": 6,
   "metadata": {},
   "outputs": [
    {
     "name": "stdout",
     "output_type": "stream",
     "text": [
      "<employees>\n",
      "    <employee>\n",
      "        <id>1</id>\n",
      "        <name>Employee 1</name>\n",
      "        <email>employee1@email.com</email>\n",
      "        <age>30</age>\n",
      "        <gender>Male</gender>\n",
      "    </employee>\n",
      "    <employee>\n",
      "        <id>2</id>\n",
      "        <name>Employee 2</name>\n",
      "        <email>employee2@email.com</email>\n",
      "        <age>22</age>\n",
      "        <gender>Female</gender>\n",
      "    </employee>\n",
      "    <employee>\n",
      "        <id>3</id>\n",
      "        <name>Employee 3</name>\n",
      "        <email>employee3@email.com</email>\n",
      "        <age>27</age>\n",
      "        <gender>Male</gender>\n",
      "    </employee>\n",
      "    <employee>\n",
      "        <id>4</id>\n",
      "        <name>Employee 4</name>\n",
      "        <email>employee4@email.com</email>\n",
      "        <age>25</age>\n",
      "        <gender>Female</gender>\n",
      "    </employee>\n",
      "    <employee>\n",
      "        <id>5</id>\n",
      "        <name>Employee 5</name>\n",
      "        <email>employee5@email.com</email>\n",
      "        <age>32</age>\n",
      "        <gender>Male</gender>\n",
      "    </employee>\n",
      "    <employee>\n",
      "        <id>6</id>\n",
      "        <name>Employee 6</name>\n",
      "        <email>employee6@email.com</email>\n",
      "        <age>24</age>\n",
      "        <gender>Female</gender>\n",
      "    </employee>\n",
      "    <employee>\n",
      "        <id>7</id>\n",
      "        <name>Employee 7</name>\n",
      "        <email>employee7@email.com</email>\n",
      "        <age>19</age>\n",
      "        <gender>Male</gender>\n",
      "    </employee>\n",
      "    <employee>\n",
      "        <id>8</id>\n",
      "        <name>Employee 8</name>\n",
      "        <email>employee8@email.com</email>\n",
      "        <age>35</age>\n",
      "        <gender>Female</gender>\n",
      "    </employee>\n",
      "    <employee>\n",
      "        <id>9</id>\n",
      "        <name>Employee 9</name>\n",
      "        <email>employee9@email.com</email>\n",
      "        <age>30</age>\n",
      "        <gender>Male</gender>\n",
      "    </employee>\n",
      "    <employee>\n",
      "        <id>10</id>\n",
      "        <name>Employee 10</name>\n",
      "        <email>employee10@email.com</email>\n",
      "        <age>23</age>\n",
      "        <gender>Female</gender>\n",
      "    </employee>\n",
      "</employees>\n",
      "\n"
     ]
    }
   ],
   "source": [
    "f = open('C:/Users/johan/Documents/new_folder/Untitled-1.xml', 'r')\n",
    "print(f.read())"
   ]
  },
  {
   "cell_type": "code",
   "execution_count": 8,
   "metadata": {},
   "outputs": [
    {
     "name": "stdout",
     "output_type": "stream",
     "text": [
      "   id\n",
      "0   1\n",
      "1   2\n",
      "2   3\n",
      "3   4\n",
      "4   5\n",
      "5   6\n",
      "6   7\n",
      "7   8\n",
      "8   9\n",
      "9  10\n"
     ]
    }
   ],
   "source": [
    "#read xml file\n",
    "import xml.etree.ElementTree as ET\n",
    "import pandas as pd\n",
    "\n",
    "#read file\n",
    "xml_data = open('C:/Users/johan/Documents/new_folder/Untitled-1.xml', 'r').read()\n",
    "\n",
    "#parse xml file\n",
    "root = ET.XML(xml_data)\n",
    "\n",
    "#initialize dataframe\n",
    "tags = []\n",
    "columns = []\n",
    "isread = False\n",
    "\n",
    "for child in root:\n",
    "    tag = {}\n",
    "    for subchild in child:\n",
    "        if not isread:\n",
    "            columns.append(subchild.tag)\n",
    "        tag[subchild.tag] = subchild.text\n",
    "        if not isread:\n",
    "            isread = True\n",
    "    tags.append(tag)\n",
    "\n",
    "df = pd.DataFrame(tags, columns=columns)\n",
    "print(df)\n"
   ]
  },
  {
   "cell_type": "code",
   "execution_count": null,
   "metadata": {},
   "outputs": [],
   "source": [
    "#writtin data in xml\n",
    "import xml.dom.minidom\n",
    "\n",
    "# create the file structure\n",
    "header = df.columns\n",
    "\n",
    "#root element\n",
    "data = ET.Element('data')\n",
    "\n",
    "for i,row in df.iterrows():\n",
    "    item = ET.SubElement(data, 'item')\n",
    "    for column in df:\n",
    "        subitem = ET.SubElement(item, column)\n",
    "        subitem.text = row[column]"
   ]
  }
 ],
 "metadata": {
  "kernelspec": {
   "display_name": "Python 3",
   "language": "python",
   "name": "python3"
  },
  "language_info": {
   "codemirror_mode": {
    "name": "ipython",
    "version": 3
   },
   "file_extension": ".py",
   "mimetype": "text/x-python",
   "name": "python",
   "nbconvert_exporter": "python",
   "pygments_lexer": "ipython3",
   "version": "3.12.6"
  }
 },
 "nbformat": 4,
 "nbformat_minor": 2
}
